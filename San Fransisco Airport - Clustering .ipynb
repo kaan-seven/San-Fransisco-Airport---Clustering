{
 "cells": [
  {
   "cell_type": "code",
   "execution_count": 1,
   "id": "fde428b6",
   "metadata": {},
   "outputs": [],
   "source": [
    "import pandas as pd\n",
    "from sklearn.cluster import KMeans\n",
    "from sklearn.metrics import silhouette_score\n",
    "import matplotlib.pyplot as plt\n",
    "import numpy as np\n",
    "import seaborn as sns\n",
    "%matplotlib inline\n",
    "sns.set_style(\"whitegrid\")"
   ]
  },
  {
   "cell_type": "code",
   "execution_count": 2,
   "id": "80ce6ea6",
   "metadata": {},
   "outputs": [],
   "source": [
    "df = pd.read_csv(\"air-traffic-passenger-statistics.csv\")"
   ]
  },
  {
   "cell_type": "code",
   "execution_count": 3,
   "id": "1faf5a4b",
   "metadata": {},
   "outputs": [
    {
     "data": {
      "text/html": [
       "<div>\n",
       "<style scoped>\n",
       "    .dataframe tbody tr th:only-of-type {\n",
       "        vertical-align: middle;\n",
       "    }\n",
       "\n",
       "    .dataframe tbody tr th {\n",
       "        vertical-align: top;\n",
       "    }\n",
       "\n",
       "    .dataframe thead th {\n",
       "        text-align: right;\n",
       "    }\n",
       "</style>\n",
       "<table border=\"1\" class=\"dataframe\">\n",
       "  <thead>\n",
       "    <tr style=\"text-align: right;\">\n",
       "      <th></th>\n",
       "      <th>Activity Period</th>\n",
       "      <th>Operating Airline</th>\n",
       "      <th>Operating Airline IATA Code</th>\n",
       "      <th>Published Airline</th>\n",
       "      <th>Published Airline IATA Code</th>\n",
       "      <th>GEO Summary</th>\n",
       "      <th>GEO Region</th>\n",
       "      <th>Activity Type Code</th>\n",
       "      <th>Price Category Code</th>\n",
       "      <th>Terminal</th>\n",
       "      <th>Boarding Area</th>\n",
       "      <th>Passenger Count</th>\n",
       "    </tr>\n",
       "  </thead>\n",
       "  <tbody>\n",
       "    <tr>\n",
       "      <th>0</th>\n",
       "      <td>200507</td>\n",
       "      <td>ATA Airlines</td>\n",
       "      <td>TZ</td>\n",
       "      <td>ATA Airlines</td>\n",
       "      <td>TZ</td>\n",
       "      <td>Domestic</td>\n",
       "      <td>US</td>\n",
       "      <td>Deplaned</td>\n",
       "      <td>Low Fare</td>\n",
       "      <td>Terminal 1</td>\n",
       "      <td>B</td>\n",
       "      <td>27271</td>\n",
       "    </tr>\n",
       "    <tr>\n",
       "      <th>1</th>\n",
       "      <td>200507</td>\n",
       "      <td>ATA Airlines</td>\n",
       "      <td>TZ</td>\n",
       "      <td>ATA Airlines</td>\n",
       "      <td>TZ</td>\n",
       "      <td>Domestic</td>\n",
       "      <td>US</td>\n",
       "      <td>Enplaned</td>\n",
       "      <td>Low Fare</td>\n",
       "      <td>Terminal 1</td>\n",
       "      <td>B</td>\n",
       "      <td>29131</td>\n",
       "    </tr>\n",
       "    <tr>\n",
       "      <th>2</th>\n",
       "      <td>200507</td>\n",
       "      <td>ATA Airlines</td>\n",
       "      <td>TZ</td>\n",
       "      <td>ATA Airlines</td>\n",
       "      <td>TZ</td>\n",
       "      <td>Domestic</td>\n",
       "      <td>US</td>\n",
       "      <td>Thru / Transit</td>\n",
       "      <td>Low Fare</td>\n",
       "      <td>Terminal 1</td>\n",
       "      <td>B</td>\n",
       "      <td>5415</td>\n",
       "    </tr>\n",
       "    <tr>\n",
       "      <th>3</th>\n",
       "      <td>200507</td>\n",
       "      <td>Air Canada</td>\n",
       "      <td>AC</td>\n",
       "      <td>Air Canada</td>\n",
       "      <td>AC</td>\n",
       "      <td>International</td>\n",
       "      <td>Canada</td>\n",
       "      <td>Deplaned</td>\n",
       "      <td>Other</td>\n",
       "      <td>Terminal 1</td>\n",
       "      <td>B</td>\n",
       "      <td>35156</td>\n",
       "    </tr>\n",
       "    <tr>\n",
       "      <th>4</th>\n",
       "      <td>200507</td>\n",
       "      <td>Air Canada</td>\n",
       "      <td>AC</td>\n",
       "      <td>Air Canada</td>\n",
       "      <td>AC</td>\n",
       "      <td>International</td>\n",
       "      <td>Canada</td>\n",
       "      <td>Enplaned</td>\n",
       "      <td>Other</td>\n",
       "      <td>Terminal 1</td>\n",
       "      <td>B</td>\n",
       "      <td>34090</td>\n",
       "    </tr>\n",
       "  </tbody>\n",
       "</table>\n",
       "</div>"
      ],
      "text/plain": [
       "   Activity Period Operating Airline Operating Airline IATA Code  \\\n",
       "0           200507      ATA Airlines                          TZ   \n",
       "1           200507      ATA Airlines                          TZ   \n",
       "2           200507      ATA Airlines                          TZ   \n",
       "3           200507        Air Canada                          AC   \n",
       "4           200507        Air Canada                          AC   \n",
       "\n",
       "  Published Airline Published Airline IATA Code    GEO Summary GEO Region  \\\n",
       "0      ATA Airlines                          TZ       Domestic         US   \n",
       "1      ATA Airlines                          TZ       Domestic         US   \n",
       "2      ATA Airlines                          TZ       Domestic         US   \n",
       "3        Air Canada                          AC  International     Canada   \n",
       "4        Air Canada                          AC  International     Canada   \n",
       "\n",
       "  Activity Type Code Price Category Code    Terminal Boarding Area  \\\n",
       "0           Deplaned            Low Fare  Terminal 1             B   \n",
       "1           Enplaned            Low Fare  Terminal 1             B   \n",
       "2     Thru / Transit            Low Fare  Terminal 1             B   \n",
       "3           Deplaned               Other  Terminal 1             B   \n",
       "4           Enplaned               Other  Terminal 1             B   \n",
       "\n",
       "   Passenger Count  \n",
       "0            27271  \n",
       "1            29131  \n",
       "2             5415  \n",
       "3            35156  \n",
       "4            34090  "
      ]
     },
     "execution_count": 3,
     "metadata": {},
     "output_type": "execute_result"
    }
   ],
   "source": [
    "pd.set_option(\"display.max_columns\", None)\n",
    "df.head()"
   ]
  },
  {
   "cell_type": "code",
   "execution_count": 4,
   "id": "58e56f00",
   "metadata": {},
   "outputs": [
    {
     "name": "stdout",
     "output_type": "stream",
     "text": [
      "<class 'pandas.core.frame.DataFrame'>\n",
      "RangeIndex: 18885 entries, 0 to 18884\n",
      "Data columns (total 12 columns):\n",
      " #   Column                       Non-Null Count  Dtype \n",
      "---  ------                       --------------  ----- \n",
      " 0   Activity Period              18885 non-null  int64 \n",
      " 1   Operating Airline            18885 non-null  object\n",
      " 2   Operating Airline IATA Code  18822 non-null  object\n",
      " 3   Published Airline            18885 non-null  object\n",
      " 4   Published Airline IATA Code  18822 non-null  object\n",
      " 5   GEO Summary                  18885 non-null  object\n",
      " 6   GEO Region                   18885 non-null  object\n",
      " 7   Activity Type Code           18885 non-null  object\n",
      " 8   Price Category Code          18885 non-null  object\n",
      " 9   Terminal                     18885 non-null  object\n",
      " 10  Boarding Area                18885 non-null  object\n",
      " 11  Passenger Count              18885 non-null  int64 \n",
      "dtypes: int64(2), object(10)\n",
      "memory usage: 1.7+ MB\n"
     ]
    }
   ],
   "source": [
    "df.info()"
   ]
  },
  {
   "cell_type": "code",
   "execution_count": 5,
   "id": "9f9715ff",
   "metadata": {},
   "outputs": [
    {
     "data": {
      "text/plain": [
       "United Airlines - Pre 07/01/2013    2154\n",
       "United Airlines                     1653\n",
       "SkyWest Airlines                    1212\n",
       "Alaska Airlines                      891\n",
       "Virgin America                       462\n",
       "                                    ... \n",
       "Trego Dugan Aviation                   2\n",
       "Evergreen International Airlines       2\n",
       "Icelandair EHF                         2\n",
       "Xtra Airways                           2\n",
       "Boeing Company                         1\n",
       "Name: Operating Airline, Length: 89, dtype: int64"
      ]
     },
     "execution_count": 5,
     "metadata": {},
     "output_type": "execute_result"
    }
   ],
   "source": [
    "airline_count = df[\"Operating Airline\"].value_counts()\n",
    "airline_count"
   ]
  },
  {
   "cell_type": "code",
   "execution_count": 6,
   "id": "a51776b8",
   "metadata": {},
   "outputs": [
    {
     "data": {
      "text/plain": [
       "Operating Airline\n",
       "ABC Aerolineas S.A. de C.V. dba Interjet      15585\n",
       "ATA Airlines                                 384764\n",
       "Aer Lingus                                   777691\n",
       "Aeromexico                                  1672946\n",
       "Air Berlin                                   235155\n",
       "                                             ...   \n",
       "WOW Air                                      295168\n",
       "WestJet Airlines                             799801\n",
       "World Airways                                   785\n",
       "XL Airways France                            118961\n",
       "Xtra Airways                                    146\n",
       "Name: Passenger Count, Length: 89, dtype: int64"
      ]
     },
     "execution_count": 6,
     "metadata": {},
     "output_type": "execute_result"
    }
   ],
   "source": [
    "passenger_count = df.groupby(\"Operating Airline\")[\"Passenger Count\"].sum()\n",
    "passenger_count"
   ]
  },
  {
   "cell_type": "code",
   "execution_count": 7,
   "id": "90604757",
   "metadata": {},
   "outputs": [],
   "source": [
    "x = airline_count.values\n",
    "y = passenger_count.values\n",
    "X = np.array(list(zip(x,y)))"
   ]
  },
  {
   "cell_type": "code",
   "execution_count": 8,
   "id": "9d32b9b3",
   "metadata": {
    "scrolled": true
   },
   "outputs": [
    {
     "data": {
      "text/plain": [
       "array([[     2154,     15585],\n",
       "       [     1653,    384764],\n",
       "       [     1212,    777691],\n",
       "       [      891,   1672946],\n",
       "       [      462,    235155],\n",
       "       [      445,   8804894],\n",
       "       [      420,      4119],\n",
       "       [      390,   2260334],\n",
       "       [      380,   3801038],\n",
       "       [      317,    293499],\n",
       "       [      314,   2380307],\n",
       "       [      313,     67815],\n",
       "       [      313,   2388648],\n",
       "       [      313,  17540235],\n",
       "       [      312,   2016793],\n",
       "       [      312,     24269],\n",
       "       [      312,  43622387],\n",
       "       [      312,    424692],\n",
       "       [      312,       110],\n",
       "       [      312,   1954588],\n",
       "       [      312,     47892],\n",
       "       [      312,        68],\n",
       "       [      312,      9138],\n",
       "       [      312,        18],\n",
       "       [      312,   5553732],\n",
       "       [      312,    412238],\n",
       "       [      312,   5546810],\n",
       "       [      312,   3100301],\n",
       "       [      312,    866539],\n",
       "       [      305,    542298],\n",
       "       [      304,   3478144],\n",
       "       [      256,  34813833],\n",
       "       [      240,   4387370],\n",
       "       [      234,   2300922],\n",
       "       [      234,    395594],\n",
       "       [      226,         4],\n",
       "       [      205,    180219],\n",
       "       [      193,     35866],\n",
       "       [      188,     15752],\n",
       "       [      152,   5934871],\n",
       "       [      135,   2992406],\n",
       "       [      126,     30735],\n",
       "       [      126,   1331584],\n",
       "       [      124,     13662],\n",
       "       [      118,     55994],\n",
       "       [      116,      6308],\n",
       "       [      106,     63913],\n",
       "       [       90,   2008088],\n",
       "       [       86,    156787],\n",
       "       [       78,     68485],\n",
       "       [       72,  11398739],\n",
       "       [       68,   3021689],\n",
       "       [       66,   2091581],\n",
       "       [       60,    250741],\n",
       "       [       56,   6126097],\n",
       "       [       51,    434184],\n",
       "       [       50,    126048],\n",
       "       [       48,    991232],\n",
       "       [       44,      1718],\n",
       "       [       44,    450428],\n",
       "       [       38,   6266220],\n",
       "       [       36,       320],\n",
       "       [       32,   3267913],\n",
       "       [       24,   1079149],\n",
       "       [       24,     58860],\n",
       "       [       24,    763532],\n",
       "       [       22,      3242],\n",
       "       [       22,   4530707],\n",
       "       [       22,  44582356],\n",
       "       [       22,  33414970],\n",
       "       [       20,     70105],\n",
       "       [       16,   1389930],\n",
       "       [       16,   1276671],\n",
       "       [       16,      5103],\n",
       "       [       16,   1618673],\n",
       "       [       14,     37483],\n",
       "       [       12,       412],\n",
       "       [       11,    668285],\n",
       "       [       10,  16816616],\n",
       "       [        8, 112640408],\n",
       "       [        6, 105363917],\n",
       "       [        3,  37843920],\n",
       "       [        2,   3194033],\n",
       "       [        2,    202735],\n",
       "       [        2,    295168],\n",
       "       [        2,    799801],\n",
       "       [        2,       785],\n",
       "       [        2,    118961],\n",
       "       [        1,       146]], dtype=int64)"
      ]
     },
     "execution_count": 8,
     "metadata": {},
     "output_type": "execute_result"
    }
   ],
   "source": [
    "X"
   ]
  },
  {
   "cell_type": "code",
   "execution_count": 9,
   "id": "ccb50b4a",
   "metadata": {},
   "outputs": [],
   "source": [
    "df1 = pd.DataFrame(X)"
   ]
  },
  {
   "cell_type": "code",
   "execution_count": 10,
   "id": "64323d76",
   "metadata": {},
   "outputs": [
    {
     "data": {
      "text/html": [
       "<div>\n",
       "<style scoped>\n",
       "    .dataframe tbody tr th:only-of-type {\n",
       "        vertical-align: middle;\n",
       "    }\n",
       "\n",
       "    .dataframe tbody tr th {\n",
       "        vertical-align: top;\n",
       "    }\n",
       "\n",
       "    .dataframe thead th {\n",
       "        text-align: right;\n",
       "    }\n",
       "</style>\n",
       "<table border=\"1\" class=\"dataframe\">\n",
       "  <thead>\n",
       "    <tr style=\"text-align: right;\">\n",
       "      <th></th>\n",
       "      <th>0</th>\n",
       "      <th>1</th>\n",
       "    </tr>\n",
       "  </thead>\n",
       "  <tbody>\n",
       "    <tr>\n",
       "      <th>0</th>\n",
       "      <td>2154</td>\n",
       "      <td>15585</td>\n",
       "    </tr>\n",
       "    <tr>\n",
       "      <th>1</th>\n",
       "      <td>1653</td>\n",
       "      <td>384764</td>\n",
       "    </tr>\n",
       "    <tr>\n",
       "      <th>2</th>\n",
       "      <td>1212</td>\n",
       "      <td>777691</td>\n",
       "    </tr>\n",
       "    <tr>\n",
       "      <th>3</th>\n",
       "      <td>891</td>\n",
       "      <td>1672946</td>\n",
       "    </tr>\n",
       "    <tr>\n",
       "      <th>4</th>\n",
       "      <td>462</td>\n",
       "      <td>235155</td>\n",
       "    </tr>\n",
       "    <tr>\n",
       "      <th>...</th>\n",
       "      <td>...</td>\n",
       "      <td>...</td>\n",
       "    </tr>\n",
       "    <tr>\n",
       "      <th>84</th>\n",
       "      <td>2</td>\n",
       "      <td>295168</td>\n",
       "    </tr>\n",
       "    <tr>\n",
       "      <th>85</th>\n",
       "      <td>2</td>\n",
       "      <td>799801</td>\n",
       "    </tr>\n",
       "    <tr>\n",
       "      <th>86</th>\n",
       "      <td>2</td>\n",
       "      <td>785</td>\n",
       "    </tr>\n",
       "    <tr>\n",
       "      <th>87</th>\n",
       "      <td>2</td>\n",
       "      <td>118961</td>\n",
       "    </tr>\n",
       "    <tr>\n",
       "      <th>88</th>\n",
       "      <td>1</td>\n",
       "      <td>146</td>\n",
       "    </tr>\n",
       "  </tbody>\n",
       "</table>\n",
       "<p>89 rows × 2 columns</p>\n",
       "</div>"
      ],
      "text/plain": [
       "       0        1\n",
       "0   2154    15585\n",
       "1   1653   384764\n",
       "2   1212   777691\n",
       "3    891  1672946\n",
       "4    462   235155\n",
       "..   ...      ...\n",
       "84     2   295168\n",
       "85     2   799801\n",
       "86     2      785\n",
       "87     2   118961\n",
       "88     1      146\n",
       "\n",
       "[89 rows x 2 columns]"
      ]
     },
     "execution_count": 10,
     "metadata": {},
     "output_type": "execute_result"
    }
   ],
   "source": [
    "df1"
   ]
  },
  {
   "cell_type": "code",
   "execution_count": 11,
   "id": "464fdf33",
   "metadata": {},
   "outputs": [
    {
     "name": "stdout",
     "output_type": "stream",
     "text": [
      "<class 'pandas.core.frame.DataFrame'>\n",
      "RangeIndex: 89 entries, 0 to 88\n",
      "Data columns (total 2 columns):\n",
      " #   Column  Non-Null Count  Dtype\n",
      "---  ------  --------------  -----\n",
      " 0   0       89 non-null     int64\n",
      " 1   1       89 non-null     int64\n",
      "dtypes: int64(2)\n",
      "memory usage: 1.5 KB\n"
     ]
    }
   ],
   "source": [
    "df1.info()"
   ]
  },
  {
   "cell_type": "code",
   "execution_count": 12,
   "id": "6620f829",
   "metadata": {},
   "outputs": [],
   "source": [
    "model = KMeans(n_clusters=4)\n",
    "model=model.fit(df1)"
   ]
  },
  {
   "cell_type": "code",
   "execution_count": 13,
   "id": "69f71b64",
   "metadata": {},
   "outputs": [],
   "source": [
    "pred=model.predict(df1)"
   ]
  },
  {
   "cell_type": "code",
   "execution_count": 14,
   "id": "d78b23c1",
   "metadata": {},
   "outputs": [
    {
     "data": {
      "text/plain": [
       "array([0, 0, 0, 0, 0, 3, 0, 0, 0, 0, 0, 0, 0, 3, 0, 0, 2, 0, 0, 0, 0, 0,\n",
       "       0, 0, 0, 0, 0, 0, 0, 0, 0, 2, 0, 0, 0, 0, 0, 0, 0, 0, 0, 0, 0, 0,\n",
       "       0, 0, 0, 0, 0, 0, 3, 0, 0, 0, 0, 0, 0, 0, 0, 0, 0, 0, 0, 0, 0, 0,\n",
       "       0, 0, 2, 2, 0, 0, 0, 0, 0, 0, 0, 0, 3, 1, 1, 2, 0, 0, 0, 0, 0, 0,\n",
       "       0])"
      ]
     },
     "execution_count": 14,
     "metadata": {},
     "output_type": "execute_result"
    }
   ],
   "source": [
    "pred"
   ]
  },
  {
   "cell_type": "code",
   "execution_count": 15,
   "id": "79b6e10f",
   "metadata": {},
   "outputs": [
    {
     "data": {
      "text/plain": [
       "0.8270889134566368"
      ]
     },
     "execution_count": 15,
     "metadata": {},
     "output_type": "execute_result"
    }
   ],
   "source": [
    "silhouette_score(df1,pred)"
   ]
  },
  {
   "cell_type": "code",
   "execution_count": 16,
   "id": "d0480866",
   "metadata": {},
   "outputs": [
    {
     "data": {
      "text/plain": [
       "array([0, 0, 0, 0, 0, 3, 0, 0, 0, 0, 0, 0, 0, 3, 0, 0, 2, 0, 0, 0, 0, 0,\n",
       "       0, 0, 0, 0, 0, 0, 0, 0, 0, 2, 0, 0, 0, 0, 0, 0, 0, 0, 0, 0, 0, 0,\n",
       "       0, 0, 0, 0, 0, 0, 3, 0, 0, 0, 0, 0, 0, 0, 0, 0, 0, 0, 0, 0, 0, 0,\n",
       "       0, 0, 2, 2, 0, 0, 0, 0, 0, 0, 0, 0, 3, 1, 1, 2, 0, 0, 0, 0, 0, 0,\n",
       "       0])"
      ]
     },
     "execution_count": 16,
     "metadata": {},
     "output_type": "execute_result"
    }
   ],
   "source": [
    "clust=df1.assign(Cluster=model.labels_)\n",
    "model.cluster_centers_.astype(\"int\")\n",
    "model.labels_"
   ]
  },
  {
   "cell_type": "code",
   "execution_count": 17,
   "id": "99d845ac",
   "metadata": {},
   "outputs": [
    {
     "data": {
      "image/png": "[encoded data removed]",
      "text/plain": [
       "<Figure size 720x432 with 2 Axes>"
      ]
     },
     "metadata": {},
     "output_type": "display_data"
    }
   ],
   "source": [
    "plt.figure(figsize = (10,6))\n",
    "plt.scatter(df1[0],df1[1], c=pred)\n",
    "plt.xlabel(\"Total Flights\")\n",
    "plt.ylabel(\"Passenger Count\")\n",
    "plt.colorbar()\n",
    "plt.show()"
   ]
  },
  {
   "cell_type": "code",
   "execution_count": 18,
   "id": "2435d5cc",
   "metadata": {},
   "outputs": [
    {
     "name": "stdout",
     "output_type": "stream",
     "text": [
      "Number of cluster 2, silhouette 0.9286008774783031\n",
      "Number of cluster 3, silhouette 0.9124444389037357\n",
      "Number of cluster 4, silhouette 0.8270889134566368\n",
      "Number of cluster 5, silhouette 0.7267844869174688\n",
      "Number of cluster 6, silhouette 0.7269686293407124\n",
      "Number of cluster 7, silhouette 0.7255430194210364\n",
      "Number of cluster 8, silhouette 0.7392346174533175\n",
      "Number of cluster 9, silhouette 0.7192901754027051\n",
      "Number of cluster 10, silhouette 0.7107631798984916\n"
     ]
    }
   ],
   "source": [
    "allscore = []\n",
    "allclusters=[]\n",
    "def clust(clusters):\n",
    "    for no_of_cluster in np.arange(1,clusters):\n",
    "        no_of_cluster+=1\n",
    "        model=KMeans(n_clusters=no_of_cluster)\n",
    "        pred=model.fit_predict(df1)\n",
    "        score=silhouette_score(df1,pred)\n",
    "        print(f'Number of cluster {no_of_cluster}, silhouette {score}')\n",
    "        allscore.append(score)\n",
    "        allclusters.append(no_of_cluster)\n",
    "clust(10)"
   ]
  },
  {
   "cell_type": "code",
   "execution_count": 19,
   "id": "6dce3cbc",
   "metadata": {},
   "outputs": [
    {
     "data": {
      "image/png": "[encoded data removed]",
      "text/plain": [
       "<Figure size 432x288 with 1 Axes>"
      ]
     },
     "metadata": {},
     "output_type": "display_data"
    }
   ],
   "source": [
    "plt.plot(allclusters, allscore)\n",
    "plt.xlabel(\"Clusters()\")\n",
    "plt.ylabel(\"Silhouette_Score\")\n",
    "plt.title(\"Silhouette Method\")\n",
    "plt.xlim(0,15)\n",
    "plt.show()"
   ]
  },
  {
   "cell_type": "code",
   "execution_count": 20,
   "id": "dcf59181",
   "metadata": {},
   "outputs": [
    {
     "name": "stdout",
     "output_type": "stream",
     "text": [
      "Number of cluster 2, silhouette 0.9286008774783031\n",
      "Number of cluster 3, silhouette 0.9124444389037357\n",
      "Number of cluster 4, silhouette 0.8270889134566368\n",
      "Number of cluster 5, silhouette 0.7267844869174688\n",
      "Number of cluster 6, silhouette 0.7269686293407124\n",
      "Number of cluster 7, silhouette 0.7255430194210364\n",
      "Number of cluster 8, silhouette 0.7372212089855074\n",
      "Number of cluster 9, silhouette 0.7192901754027051\n",
      "Number of cluster 10, silhouette 0.7107631798984916\n"
     ]
    }
   ],
   "source": [
    "allscore=[]\n",
    "allclusters=[]\n",
    "sum_of_squared_distances = []\n",
    "def clust(clusters):\n",
    "    for no_of_cluster in np.arange(1,clusters):\n",
    "        \n",
    "        no_of_cluster+=1\n",
    "        model=KMeans(n_clusters=no_of_cluster)\n",
    "        #model-model fit(x)\n",
    "        pred=model.fit_predict(df1)\n",
    "        sum_of_squared_distances.append(model.inertia_)\n",
    "        score=silhouette_score(df1,pred)\n",
    "        print (\"Number of cluster {}, silhouette {}\".format(no_of_cluster,score))\n",
    "        allscore.append(score)\n",
    "        allclusters.append(no_of_cluster)\n",
    "clust(10)"
   ]
  },
  {
   "cell_type": "code",
   "execution_count": 21,
   "id": "875849ff",
   "metadata": {},
   "outputs": [
    {
     "data": {
      "image/png": "[encoded data removed]",
      "text/plain": [
       "<Figure size 432x288 with 1 Axes>"
      ]
     },
     "metadata": {},
     "output_type": "display_data"
    }
   ],
   "source": [
    "plt.plot(allclusters,sum_of_squared_distances,marker=\"x\")\n",
    "plt.xlabel(\"k\")\n",
    "plt.ylabel(\"Distortion\")\n",
    "plt.title(\"The Elbow Method showing optimal K\")\n",
    "plt.show()"
   ]
  },
  {
   "cell_type": "code",
   "execution_count": null,
   "id": "39b15534",
   "metadata": {},
   "outputs": [],
   "source": []
  }
 ],
 "metadata": {
  "kernelspec": {
   "display_name": "Python 3 (ipykernel)",
   "language": "python",
   "name": "python3"
  },
  "language_info": {
   "codemirror_mode": {
    "name": "ipython",
    "version": 3
   },
   "file_extension": ".py",
   "mimetype": "text/x-python",
   "name": "python",
   "nbconvert_exporter": "python",
   "pygments_lexer": "ipython3",
   "version": "3.9.12"
  }
 },
 "nbformat": 4,
 "nbformat_minor": 5
}
